{
 "cells": [
  {
   "cell_type": "code",
   "execution_count": 42,
   "metadata": {},
   "outputs": [],
   "source": [
    "import numpy as np\n",
    "import tensorflow as tf\n",
    "import matplotlib.pyplot as plt\n",
    "import pandas as pd\n",
    "import seaborn as sns\n",
    "import tensorflow.keras as keras\n",
    "from tensorflow.keras import layers, models\n",
    "import sklearn as sk\n",
    "from sklearn.metrics import r2_score"
   ]
  },
  {
   "cell_type": "code",
   "execution_count": 5,
   "metadata": {},
   "outputs": [],
   "source": [
    "(x_train, y_train), (x_test, y_test) =keras.datasets.california_housing.load_data(\n",
    "    version=\"large\", path=\"california_housing.npz\", test_split=0.2, seed=113\n",
    ")"
   ]
  },
  {
   "cell_type": "code",
   "execution_count": 6,
   "metadata": {},
   "outputs": [
    {
     "data": {
      "text/plain": [
       "(16512, 8)"
      ]
     },
     "execution_count": 6,
     "metadata": {},
     "output_type": "execute_result"
    }
   ],
   "source": [
    "x_train.shape"
   ]
  },
  {
   "cell_type": "code",
   "execution_count": 7,
   "metadata": {},
   "outputs": [
    {
     "data": {
      "text/plain": [
       "array([[-118.27  ,   34.09  ,   52.    , ..., 1048.    ,  491.    ,\n",
       "           3.7847],\n",
       "       [-118.36  ,   33.96  ,   21.    , ..., 1286.    ,  557.    ,\n",
       "           2.7284],\n",
       "       [-122.39  ,   37.76  ,   52.    , ...,  712.    ,  398.    ,\n",
       "           3.9722],\n",
       "       ...,\n",
       "       [-122.34  ,   37.57  ,   52.    , ...,  876.    ,  359.    ,\n",
       "           8.2598],\n",
       "       [-122.18  ,   37.89  ,   18.    , ..., 1634.    ,  734.    ,\n",
       "           8.1489],\n",
       "       [-118.43  ,   34.2   ,   29.    , ..., 1942.    ,  679.    ,\n",
       "           3.1118]], dtype=float32)"
      ]
     },
     "execution_count": 7,
     "metadata": {},
     "output_type": "execute_result"
    }
   ],
   "source": [
    "x_train"
   ]
  },
  {
   "cell_type": "code",
   "execution_count": 8,
   "metadata": {},
   "outputs": [],
   "source": [
    "data=pd.DataFrame(x_train,columns=['MedInc','HouseAge','AveRooms','AveBedrms','Population','AveOccup','Latitude','Longitude'])"
   ]
  },
  {
   "cell_type": "code",
   "execution_count": 9,
   "metadata": {},
   "outputs": [
    {
     "name": "stdout",
     "output_type": "stream",
     "text": [
      "<class 'pandas.core.frame.DataFrame'>\n",
      "RangeIndex: 16512 entries, 0 to 16511\n",
      "Data columns (total 8 columns):\n",
      " #   Column      Non-Null Count  Dtype  \n",
      "---  ------      --------------  -----  \n",
      " 0   MedInc      16512 non-null  float32\n",
      " 1   HouseAge    16512 non-null  float32\n",
      " 2   AveRooms    16512 non-null  float32\n",
      " 3   AveBedrms   16512 non-null  float32\n",
      " 4   Population  16512 non-null  float32\n",
      " 5   AveOccup    16512 non-null  float32\n",
      " 6   Latitude    16512 non-null  float32\n",
      " 7   Longitude   16512 non-null  float32\n",
      "dtypes: float32(8)\n",
      "memory usage: 516.1 KB\n"
     ]
    }
   ],
   "source": [
    "data.info()"
   ]
  },
  {
   "cell_type": "code",
   "execution_count": 10,
   "metadata": {},
   "outputs": [
    {
     "data": {
      "text/html": [
       "<div>\n",
       "<style scoped>\n",
       "    .dataframe tbody tr th:only-of-type {\n",
       "        vertical-align: middle;\n",
       "    }\n",
       "\n",
       "    .dataframe tbody tr th {\n",
       "        vertical-align: top;\n",
       "    }\n",
       "\n",
       "    .dataframe thead th {\n",
       "        text-align: right;\n",
       "    }\n",
       "</style>\n",
       "<table border=\"1\" class=\"dataframe\">\n",
       "  <thead>\n",
       "    <tr style=\"text-align: right;\">\n",
       "      <th></th>\n",
       "      <th>MedInc</th>\n",
       "      <th>HouseAge</th>\n",
       "      <th>AveRooms</th>\n",
       "      <th>AveBedrms</th>\n",
       "      <th>Population</th>\n",
       "      <th>AveOccup</th>\n",
       "      <th>Latitude</th>\n",
       "      <th>Longitude</th>\n",
       "      <th>price</th>\n",
       "    </tr>\n",
       "  </thead>\n",
       "  <tbody>\n",
       "    <tr>\n",
       "      <th>0</th>\n",
       "      <td>-118.269997</td>\n",
       "      <td>34.090000</td>\n",
       "      <td>52.0</td>\n",
       "      <td>2327.0</td>\n",
       "      <td>555.0</td>\n",
       "      <td>1048.0</td>\n",
       "      <td>491.0</td>\n",
       "      <td>3.7847</td>\n",
       "      <td>252300.0</td>\n",
       "    </tr>\n",
       "    <tr>\n",
       "      <th>1</th>\n",
       "      <td>-118.360001</td>\n",
       "      <td>33.959999</td>\n",
       "      <td>21.0</td>\n",
       "      <td>1802.0</td>\n",
       "      <td>556.0</td>\n",
       "      <td>1286.0</td>\n",
       "      <td>557.0</td>\n",
       "      <td>2.7284</td>\n",
       "      <td>146900.0</td>\n",
       "    </tr>\n",
       "    <tr>\n",
       "      <th>2</th>\n",
       "      <td>-122.389999</td>\n",
       "      <td>37.759998</td>\n",
       "      <td>52.0</td>\n",
       "      <td>1877.0</td>\n",
       "      <td>427.0</td>\n",
       "      <td>712.0</td>\n",
       "      <td>398.0</td>\n",
       "      <td>3.9722</td>\n",
       "      <td>290900.0</td>\n",
       "    </tr>\n",
       "    <tr>\n",
       "      <th>3</th>\n",
       "      <td>-117.949997</td>\n",
       "      <td>33.919998</td>\n",
       "      <td>11.0</td>\n",
       "      <td>3127.0</td>\n",
       "      <td>706.0</td>\n",
       "      <td>1594.0</td>\n",
       "      <td>694.0</td>\n",
       "      <td>4.3426</td>\n",
       "      <td>141300.0</td>\n",
       "    </tr>\n",
       "    <tr>\n",
       "      <th>4</th>\n",
       "      <td>-122.519997</td>\n",
       "      <td>37.919998</td>\n",
       "      <td>24.0</td>\n",
       "      <td>421.0</td>\n",
       "      <td>64.0</td>\n",
       "      <td>163.0</td>\n",
       "      <td>75.0</td>\n",
       "      <td>14.5833</td>\n",
       "      <td>500001.0</td>\n",
       "    </tr>\n",
       "  </tbody>\n",
       "</table>\n",
       "</div>"
      ],
      "text/plain": [
       "       MedInc   HouseAge  AveRooms  AveBedrms  Population  AveOccup  Latitude  \\\n",
       "0 -118.269997  34.090000      52.0     2327.0       555.0    1048.0     491.0   \n",
       "1 -118.360001  33.959999      21.0     1802.0       556.0    1286.0     557.0   \n",
       "2 -122.389999  37.759998      52.0     1877.0       427.0     712.0     398.0   \n",
       "3 -117.949997  33.919998      11.0     3127.0       706.0    1594.0     694.0   \n",
       "4 -122.519997  37.919998      24.0      421.0        64.0     163.0      75.0   \n",
       "\n",
       "   Longitude     price  \n",
       "0     3.7847  252300.0  \n",
       "1     2.7284  146900.0  \n",
       "2     3.9722  290900.0  \n",
       "3     4.3426  141300.0  \n",
       "4    14.5833  500001.0  "
      ]
     },
     "execution_count": 10,
     "metadata": {},
     "output_type": "execute_result"
    }
   ],
   "source": [
    "data[\"price\"]=y_train\n",
    "data.head()"
   ]
  },
  {
   "cell_type": "code",
   "execution_count": 11,
   "metadata": {},
   "outputs": [
    {
     "data": {
      "text/plain": [
       "(16512,)"
      ]
     },
     "execution_count": 11,
     "metadata": {},
     "output_type": "execute_result"
    }
   ],
   "source": [
    "y_train.shape"
   ]
  },
  {
   "cell_type": "code",
   "execution_count": 12,
   "metadata": {},
   "outputs": [
    {
     "data": {
      "text/html": [
       "<div>\n",
       "<style scoped>\n",
       "    .dataframe tbody tr th:only-of-type {\n",
       "        vertical-align: middle;\n",
       "    }\n",
       "\n",
       "    .dataframe tbody tr th {\n",
       "        vertical-align: top;\n",
       "    }\n",
       "\n",
       "    .dataframe thead th {\n",
       "        text-align: right;\n",
       "    }\n",
       "</style>\n",
       "<table border=\"1\" class=\"dataframe\">\n",
       "  <thead>\n",
       "    <tr style=\"text-align: right;\">\n",
       "      <th></th>\n",
       "      <th>MedInc</th>\n",
       "      <th>HouseAge</th>\n",
       "      <th>AveRooms</th>\n",
       "      <th>AveBedrms</th>\n",
       "      <th>Population</th>\n",
       "      <th>AveOccup</th>\n",
       "      <th>Latitude</th>\n",
       "      <th>Longitude</th>\n",
       "      <th>price</th>\n",
       "    </tr>\n",
       "  </thead>\n",
       "  <tbody>\n",
       "    <tr>\n",
       "      <th>0</th>\n",
       "      <td>-118.269997</td>\n",
       "      <td>34.090000</td>\n",
       "      <td>52.0</td>\n",
       "      <td>2327.0</td>\n",
       "      <td>555.0</td>\n",
       "      <td>1048.0</td>\n",
       "      <td>491.0</td>\n",
       "      <td>3.7847</td>\n",
       "      <td>252300.0</td>\n",
       "    </tr>\n",
       "    <tr>\n",
       "      <th>1</th>\n",
       "      <td>-118.360001</td>\n",
       "      <td>33.959999</td>\n",
       "      <td>21.0</td>\n",
       "      <td>1802.0</td>\n",
       "      <td>556.0</td>\n",
       "      <td>1286.0</td>\n",
       "      <td>557.0</td>\n",
       "      <td>2.7284</td>\n",
       "      <td>146900.0</td>\n",
       "    </tr>\n",
       "    <tr>\n",
       "      <th>2</th>\n",
       "      <td>-122.389999</td>\n",
       "      <td>37.759998</td>\n",
       "      <td>52.0</td>\n",
       "      <td>1877.0</td>\n",
       "      <td>427.0</td>\n",
       "      <td>712.0</td>\n",
       "      <td>398.0</td>\n",
       "      <td>3.9722</td>\n",
       "      <td>290900.0</td>\n",
       "    </tr>\n",
       "    <tr>\n",
       "      <th>3</th>\n",
       "      <td>-117.949997</td>\n",
       "      <td>33.919998</td>\n",
       "      <td>11.0</td>\n",
       "      <td>3127.0</td>\n",
       "      <td>706.0</td>\n",
       "      <td>1594.0</td>\n",
       "      <td>694.0</td>\n",
       "      <td>4.3426</td>\n",
       "      <td>141300.0</td>\n",
       "    </tr>\n",
       "    <tr>\n",
       "      <th>4</th>\n",
       "      <td>-122.519997</td>\n",
       "      <td>37.919998</td>\n",
       "      <td>24.0</td>\n",
       "      <td>421.0</td>\n",
       "      <td>64.0</td>\n",
       "      <td>163.0</td>\n",
       "      <td>75.0</td>\n",
       "      <td>14.5833</td>\n",
       "      <td>500001.0</td>\n",
       "    </tr>\n",
       "  </tbody>\n",
       "</table>\n",
       "</div>"
      ],
      "text/plain": [
       "       MedInc   HouseAge  AveRooms  AveBedrms  Population  AveOccup  Latitude  \\\n",
       "0 -118.269997  34.090000      52.0     2327.0       555.0    1048.0     491.0   \n",
       "1 -118.360001  33.959999      21.0     1802.0       556.0    1286.0     557.0   \n",
       "2 -122.389999  37.759998      52.0     1877.0       427.0     712.0     398.0   \n",
       "3 -117.949997  33.919998      11.0     3127.0       706.0    1594.0     694.0   \n",
       "4 -122.519997  37.919998      24.0      421.0        64.0     163.0      75.0   \n",
       "\n",
       "   Longitude     price  \n",
       "0     3.7847  252300.0  \n",
       "1     2.7284  146900.0  \n",
       "2     3.9722  290900.0  \n",
       "3     4.3426  141300.0  \n",
       "4    14.5833  500001.0  "
      ]
     },
     "execution_count": 12,
     "metadata": {},
     "output_type": "execute_result"
    }
   ],
   "source": [
    "data.head(5)"
   ]
  },
  {
   "cell_type": "code",
   "execution_count": 13,
   "metadata": {},
   "outputs": [],
   "source": [
    "x=data.drop(\"price\",axis=1)"
   ]
  },
  {
   "cell_type": "code",
   "execution_count": 15,
   "metadata": {},
   "outputs": [],
   "source": [
    "y=data[\"price\"]"
   ]
  },
  {
   "cell_type": "code",
   "execution_count": 16,
   "metadata": {},
   "outputs": [],
   "source": [
    "x_train, x_test, y_train, y_test = sk.model_selection.train_test_split(x, y, test_size=0.2, random_state=42)"
   ]
  },
  {
   "cell_type": "code",
   "execution_count": 17,
   "metadata": {},
   "outputs": [],
   "source": [
    "scaler=sk.preprocessing.StandardScaler()\n",
    "x_train=scaler.fit_transform(x_train)\n",
    "x_test=scaler.transform(x_test)\n"
   ]
  },
  {
   "cell_type": "code",
   "execution_count": 46,
   "metadata": {},
   "outputs": [],
   "source": [
    "model = models.Sequential([\n",
    "    keras.layers.Dense(units=500,activation='relu',name='layer_1',input_shape=(8,)),\n",
    "    keras.layers.Dense(units=250,activation='relu',name='layer_3'),\n",
    "    keras.layers.Dense(units=150,activation='relu',name='layer_4'),\n",
    "    keras.layers.Dense(units=1,name='output_layer')#unit select 1 for binary classification\n",
    "])"
   ]
  },
  {
   "cell_type": "code",
   "execution_count": 47,
   "metadata": {},
   "outputs": [],
   "source": [
    "model.compile(optimizer='adam',\n",
    "              loss='mean_squared_error',\n",
    "              metrics=['r2_score'])"
   ]
  },
  {
   "cell_type": "code",
   "execution_count": 52,
   "metadata": {},
   "outputs": [
    {
     "name": "stdout",
     "output_type": "stream",
     "text": [
      "Epoch 1/70\n",
      "\u001b[1m413/413\u001b[0m \u001b[32m━━━━━━━━━━━━━━━━━━━━\u001b[0m\u001b[37m\u001b[0m \u001b[1m1s\u001b[0m 3ms/step - loss: 3071685632.0000 - r2_score: 0.7682 - val_loss: 3355195136.0000 - val_r2_score: 0.7451\n",
      "Epoch 2/70\n",
      "\u001b[1m413/413\u001b[0m \u001b[32m━━━━━━━━━━━━━━━━━━━━\u001b[0m\u001b[37m\u001b[0m \u001b[1m1s\u001b[0m 3ms/step - loss: 3096464896.0000 - r2_score: 0.7689 - val_loss: 3326791680.0000 - val_r2_score: 0.7472\n",
      "Epoch 3/70\n",
      "\u001b[1m413/413\u001b[0m \u001b[32m━━━━━━━━━━━━━━━━━━━━\u001b[0m\u001b[37m\u001b[0m \u001b[1m1s\u001b[0m 3ms/step - loss: 2985875456.0000 - r2_score: 0.7775 - val_loss: 3317769472.0000 - val_r2_score: 0.7479\n",
      "Epoch 4/70\n",
      "\u001b[1m413/413\u001b[0m \u001b[32m━━━━━━━━━━━━━━━━━━━━\u001b[0m\u001b[37m\u001b[0m \u001b[1m1s\u001b[0m 3ms/step - loss: 2991316736.0000 - r2_score: 0.7788 - val_loss: 3337191936.0000 - val_r2_score: 0.7465\n",
      "Epoch 5/70\n",
      "\u001b[1m413/413\u001b[0m \u001b[32m━━━━━━━━━━━━━━━━━━━━\u001b[0m\u001b[37m\u001b[0m \u001b[1m1s\u001b[0m 3ms/step - loss: 2897971200.0000 - r2_score: 0.7817 - val_loss: 3342186752.0000 - val_r2_score: 0.7461\n",
      "Epoch 6/70\n",
      "\u001b[1m413/413\u001b[0m \u001b[32m━━━━━━━━━━━━━━━━━━━━\u001b[0m\u001b[37m\u001b[0m \u001b[1m1s\u001b[0m 3ms/step - loss: 3041870592.0000 - r2_score: 0.7675 - val_loss: 3383849984.0000 - val_r2_score: 0.7429\n",
      "Epoch 7/70\n",
      "\u001b[1m413/413\u001b[0m \u001b[32m━━━━━━━━━━━━━━━━━━━━\u001b[0m\u001b[37m\u001b[0m \u001b[1m1s\u001b[0m 3ms/step - loss: 2970998784.0000 - r2_score: 0.7783 - val_loss: 3420182784.0000 - val_r2_score: 0.7402\n",
      "Epoch 8/70\n",
      "\u001b[1m413/413\u001b[0m \u001b[32m━━━━━━━━━━━━━━━━━━━━\u001b[0m\u001b[37m\u001b[0m \u001b[1m1s\u001b[0m 3ms/step - loss: 2988795648.0000 - r2_score: 0.7786 - val_loss: 3306681344.0000 - val_r2_score: 0.7488\n",
      "Epoch 9/70\n",
      "\u001b[1m413/413\u001b[0m \u001b[32m━━━━━━━━━━━━━━━━━━━━\u001b[0m\u001b[37m\u001b[0m \u001b[1m1s\u001b[0m 3ms/step - loss: 2938714112.0000 - r2_score: 0.7791 - val_loss: 3288774912.0000 - val_r2_score: 0.7501\n",
      "Epoch 10/70\n",
      "\u001b[1m413/413\u001b[0m \u001b[32m━━━━━━━━━━━━━━━━━━━━\u001b[0m\u001b[37m\u001b[0m \u001b[1m1s\u001b[0m 3ms/step - loss: 2938618624.0000 - r2_score: 0.7787 - val_loss: 3407569152.0000 - val_r2_score: 0.7411\n",
      "Epoch 11/70\n",
      "\u001b[1m413/413\u001b[0m \u001b[32m━━━━━━━━━━━━━━━━━━━━\u001b[0m\u001b[37m\u001b[0m \u001b[1m1s\u001b[0m 3ms/step - loss: 3081054464.0000 - r2_score: 0.7677 - val_loss: 3268745472.0000 - val_r2_score: 0.7517\n",
      "Epoch 12/70\n",
      "\u001b[1m413/413\u001b[0m \u001b[32m━━━━━━━━━━━━━━━━━━━━\u001b[0m\u001b[37m\u001b[0m \u001b[1m1s\u001b[0m 3ms/step - loss: 2901451520.0000 - r2_score: 0.7876 - val_loss: 3234349312.0000 - val_r2_score: 0.7543\n",
      "Epoch 13/70\n",
      "\u001b[1m413/413\u001b[0m \u001b[32m━━━━━━━━━━━━━━━━━━━━\u001b[0m\u001b[37m\u001b[0m \u001b[1m1s\u001b[0m 3ms/step - loss: 2842020352.0000 - r2_score: 0.7881 - val_loss: 3298670848.0000 - val_r2_score: 0.7494\n",
      "Epoch 14/70\n",
      "\u001b[1m413/413\u001b[0m \u001b[32m━━━━━━━━━━━━━━━━━━━━\u001b[0m\u001b[37m\u001b[0m \u001b[1m1s\u001b[0m 3ms/step - loss: 2979361792.0000 - r2_score: 0.7780 - val_loss: 3280661504.0000 - val_r2_score: 0.7508\n",
      "Epoch 15/70\n",
      "\u001b[1m413/413\u001b[0m \u001b[32m━━━━━━━━━━━━━━━━━━━━\u001b[0m\u001b[37m\u001b[0m \u001b[1m1s\u001b[0m 3ms/step - loss: 2807794688.0000 - r2_score: 0.7881 - val_loss: 3305208576.0000 - val_r2_score: 0.7489\n",
      "Epoch 16/70\n",
      "\u001b[1m413/413\u001b[0m \u001b[32m━━━━━━━━━━━━━━━━━━━━\u001b[0m\u001b[37m\u001b[0m \u001b[1m1s\u001b[0m 3ms/step - loss: 2870292736.0000 - r2_score: 0.7845 - val_loss: 3268522752.0000 - val_r2_score: 0.7517\n",
      "Epoch 17/70\n",
      "\u001b[1m413/413\u001b[0m \u001b[32m━━━━━━━━━━━━━━━━━━━━\u001b[0m\u001b[37m\u001b[0m \u001b[1m1s\u001b[0m 3ms/step - loss: 2857259264.0000 - r2_score: 0.7849 - val_loss: 3223365120.0000 - val_r2_score: 0.7551\n",
      "Epoch 18/70\n",
      "\u001b[1m413/413\u001b[0m \u001b[32m━━━━━━━━━━━━━━━━━━━━\u001b[0m\u001b[37m\u001b[0m \u001b[1m1s\u001b[0m 3ms/step - loss: 2826088448.0000 - r2_score: 0.7876 - val_loss: 3241603584.0000 - val_r2_score: 0.7537\n",
      "Epoch 19/70\n",
      "\u001b[1m413/413\u001b[0m \u001b[32m━━━━━━━━━━━━━━━━━━━━\u001b[0m\u001b[37m\u001b[0m \u001b[1m1s\u001b[0m 3ms/step - loss: 2999770880.0000 - r2_score: 0.7761 - val_loss: 3255467520.0000 - val_r2_score: 0.7527\n",
      "Epoch 20/70\n",
      "\u001b[1m413/413\u001b[0m \u001b[32m━━━━━━━━━━━━━━━━━━━━\u001b[0m\u001b[37m\u001b[0m \u001b[1m1s\u001b[0m 3ms/step - loss: 2861189376.0000 - r2_score: 0.7782 - val_loss: 3302817792.0000 - val_r2_score: 0.7491\n",
      "Epoch 21/70\n",
      "\u001b[1m413/413\u001b[0m \u001b[32m━━━━━━━━━━━━━━━━━━━━\u001b[0m\u001b[37m\u001b[0m \u001b[1m1s\u001b[0m 3ms/step - loss: 2856645376.0000 - r2_score: 0.7861 - val_loss: 3222711296.0000 - val_r2_score: 0.7552\n",
      "Epoch 22/70\n",
      "\u001b[1m413/413\u001b[0m \u001b[32m━━━━━━━━━━━━━━━━━━━━\u001b[0m\u001b[37m\u001b[0m \u001b[1m1s\u001b[0m 3ms/step - loss: 2806996736.0000 - r2_score: 0.7849 - val_loss: 3288679936.0000 - val_r2_score: 0.7501\n",
      "Epoch 23/70\n",
      "\u001b[1m413/413\u001b[0m \u001b[32m━━━━━━━━━━━━━━━━━━━━\u001b[0m\u001b[37m\u001b[0m \u001b[1m1s\u001b[0m 3ms/step - loss: 2990273536.0000 - r2_score: 0.7810 - val_loss: 3297213952.0000 - val_r2_score: 0.7495\n",
      "Epoch 24/70\n",
      "\u001b[1m413/413\u001b[0m \u001b[32m━━━━━━━━━━━━━━━━━━━━\u001b[0m\u001b[37m\u001b[0m \u001b[1m1s\u001b[0m 3ms/step - loss: 2763527936.0000 - r2_score: 0.7902 - val_loss: 3213080320.0000 - val_r2_score: 0.7559\n",
      "Epoch 25/70\n",
      "\u001b[1m413/413\u001b[0m \u001b[32m━━━━━━━━━━━━━━━━━━━━\u001b[0m\u001b[37m\u001b[0m \u001b[1m1s\u001b[0m 3ms/step - loss: 2918055168.0000 - r2_score: 0.7808 - val_loss: 3219254016.0000 - val_r2_score: 0.7554\n",
      "Epoch 26/70\n",
      "\u001b[1m413/413\u001b[0m \u001b[32m━━━━━━━━━━━━━━━━━━━━\u001b[0m\u001b[37m\u001b[0m \u001b[1m1s\u001b[0m 3ms/step - loss: 2773358336.0000 - r2_score: 0.7918 - val_loss: 3204396544.0000 - val_r2_score: 0.7565\n",
      "Epoch 27/70\n",
      "\u001b[1m413/413\u001b[0m \u001b[32m━━━━━━━━━━━━━━━━━━━━\u001b[0m\u001b[37m\u001b[0m \u001b[1m1s\u001b[0m 3ms/step - loss: 2854851328.0000 - r2_score: 0.7850 - val_loss: 3217880576.0000 - val_r2_score: 0.7555\n",
      "Epoch 28/70\n",
      "\u001b[1m413/413\u001b[0m \u001b[32m━━━━━━━━━━━━━━━━━━━━\u001b[0m\u001b[37m\u001b[0m \u001b[1m1s\u001b[0m 3ms/step - loss: 2759928320.0000 - r2_score: 0.7962 - val_loss: 3231236352.0000 - val_r2_score: 0.7545\n",
      "Epoch 29/70\n",
      "\u001b[1m413/413\u001b[0m \u001b[32m━━━━━━━━━━━━━━━━━━━━\u001b[0m\u001b[37m\u001b[0m \u001b[1m1s\u001b[0m 3ms/step - loss: 2764542976.0000 - r2_score: 0.7959 - val_loss: 3188188928.0000 - val_r2_score: 0.7578\n",
      "Epoch 30/70\n",
      "\u001b[1m413/413\u001b[0m \u001b[32m━━━━━━━━━━━━━━━━━━━━\u001b[0m\u001b[37m\u001b[0m \u001b[1m1s\u001b[0m 3ms/step - loss: 2867590400.0000 - r2_score: 0.7851 - val_loss: 3174175232.0000 - val_r2_score: 0.7588\n",
      "Epoch 31/70\n",
      "\u001b[1m413/413\u001b[0m \u001b[32m━━━━━━━━━━━━━━━━━━━━\u001b[0m\u001b[37m\u001b[0m \u001b[1m1s\u001b[0m 3ms/step - loss: 2774530048.0000 - r2_score: 0.7842 - val_loss: 3231153152.0000 - val_r2_score: 0.7545\n",
      "Epoch 32/70\n",
      "\u001b[1m413/413\u001b[0m \u001b[32m━━━━━━━━━━━━━━━━━━━━\u001b[0m\u001b[37m\u001b[0m \u001b[1m1s\u001b[0m 3ms/step - loss: 2906755584.0000 - r2_score: 0.7816 - val_loss: 3195600896.0000 - val_r2_score: 0.7572\n",
      "Epoch 33/70\n",
      "\u001b[1m413/413\u001b[0m \u001b[32m━━━━━━━━━━━━━━━━━━━━\u001b[0m\u001b[37m\u001b[0m \u001b[1m1s\u001b[0m 3ms/step - loss: 2819160576.0000 - r2_score: 0.7878 - val_loss: 3149314304.0000 - val_r2_score: 0.7607\n",
      "Epoch 34/70\n",
      "\u001b[1m413/413\u001b[0m \u001b[32m━━━━━━━━━━━━━━━━━━━━\u001b[0m\u001b[37m\u001b[0m \u001b[1m1s\u001b[0m 3ms/step - loss: 2984365056.0000 - r2_score: 0.7756 - val_loss: 3189296128.0000 - val_r2_score: 0.7577\n",
      "Epoch 35/70\n",
      "\u001b[1m413/413\u001b[0m \u001b[32m━━━━━━━━━━━━━━━━━━━━\u001b[0m\u001b[37m\u001b[0m \u001b[1m1s\u001b[0m 3ms/step - loss: 2815688960.0000 - r2_score: 0.7933 - val_loss: 3138285824.0000 - val_r2_score: 0.7616\n",
      "Epoch 36/70\n",
      "\u001b[1m413/413\u001b[0m \u001b[32m━━━━━━━━━━━━━━━━━━━━\u001b[0m\u001b[37m\u001b[0m \u001b[1m1s\u001b[0m 3ms/step - loss: 2659923200.0000 - r2_score: 0.7974 - val_loss: 3163355136.0000 - val_r2_score: 0.7597\n",
      "Epoch 37/70\n",
      "\u001b[1m413/413\u001b[0m \u001b[32m━━━━━━━━━━━━━━━━━━━━\u001b[0m\u001b[37m\u001b[0m \u001b[1m1s\u001b[0m 3ms/step - loss: 2865491456.0000 - r2_score: 0.7859 - val_loss: 3188893952.0000 - val_r2_score: 0.7577\n",
      "Epoch 38/70\n",
      "\u001b[1m413/413\u001b[0m \u001b[32m━━━━━━━━━━━━━━━━━━━━\u001b[0m\u001b[37m\u001b[0m \u001b[1m1s\u001b[0m 3ms/step - loss: 2711850752.0000 - r2_score: 0.7950 - val_loss: 3169817856.0000 - val_r2_score: 0.7592\n",
      "Epoch 39/70\n",
      "\u001b[1m413/413\u001b[0m \u001b[32m━━━━━━━━━━━━━━━━━━━━\u001b[0m\u001b[37m\u001b[0m \u001b[1m1s\u001b[0m 3ms/step - loss: 2806126592.0000 - r2_score: 0.7932 - val_loss: 3151735552.0000 - val_r2_score: 0.7605\n",
      "Epoch 40/70\n",
      "\u001b[1m413/413\u001b[0m \u001b[32m━━━━━━━━━━━━━━━━━━━━\u001b[0m\u001b[37m\u001b[0m \u001b[1m1s\u001b[0m 3ms/step - loss: 2870988032.0000 - r2_score: 0.7842 - val_loss: 3151538176.0000 - val_r2_score: 0.7606\n",
      "Epoch 41/70\n",
      "\u001b[1m413/413\u001b[0m \u001b[32m━━━━━━━━━━━━━━━━━━━━\u001b[0m\u001b[37m\u001b[0m \u001b[1m1s\u001b[0m 3ms/step - loss: 2767102976.0000 - r2_score: 0.7958 - val_loss: 3169387264.0000 - val_r2_score: 0.7592\n",
      "Epoch 42/70\n",
      "\u001b[1m413/413\u001b[0m \u001b[32m━━━━━━━━━━━━━━━━━━━━\u001b[0m\u001b[37m\u001b[0m \u001b[1m1s\u001b[0m 3ms/step - loss: 2916627712.0000 - r2_score: 0.7822 - val_loss: 3164197888.0000 - val_r2_score: 0.7596\n",
      "Epoch 43/70\n",
      "\u001b[1m413/413\u001b[0m \u001b[32m━━━━━━━━━━━━━━━━━━━━\u001b[0m\u001b[37m\u001b[0m \u001b[1m1s\u001b[0m 3ms/step - loss: 2692250624.0000 - r2_score: 0.7979 - val_loss: 3173304832.0000 - val_r2_score: 0.7589\n",
      "Epoch 44/70\n",
      "\u001b[1m413/413\u001b[0m \u001b[32m━━━━━━━━━━━━━━━━━━━━\u001b[0m\u001b[37m\u001b[0m \u001b[1m1s\u001b[0m 3ms/step - loss: 2739217152.0000 - r2_score: 0.7966 - val_loss: 3149016320.0000 - val_r2_score: 0.7608\n",
      "Epoch 45/70\n",
      "\u001b[1m413/413\u001b[0m \u001b[32m━━━━━━━━━━━━━━━━━━━━\u001b[0m\u001b[37m\u001b[0m \u001b[1m1s\u001b[0m 3ms/step - loss: 2734429440.0000 - r2_score: 0.7935 - val_loss: 3156041728.0000 - val_r2_score: 0.7602\n",
      "Epoch 46/70\n",
      "\u001b[1m413/413\u001b[0m \u001b[32m━━━━━━━━━━━━━━━━━━━━\u001b[0m\u001b[37m\u001b[0m \u001b[1m1s\u001b[0m 3ms/step - loss: 2653171968.0000 - r2_score: 0.8012 - val_loss: 3217050880.0000 - val_r2_score: 0.7556\n",
      "Epoch 47/70\n",
      "\u001b[1m413/413\u001b[0m \u001b[32m━━━━━━━━━━━━━━━━━━━━\u001b[0m\u001b[37m\u001b[0m \u001b[1m1s\u001b[0m 3ms/step - loss: 2746290176.0000 - r2_score: 0.7928 - val_loss: 3183696640.0000 - val_r2_score: 0.7581\n",
      "Epoch 48/70\n",
      "\u001b[1m413/413\u001b[0m \u001b[32m━━━━━━━━━━━━━━━━━━━━\u001b[0m\u001b[37m\u001b[0m \u001b[1m1s\u001b[0m 3ms/step - loss: 2734759424.0000 - r2_score: 0.7911 - val_loss: 3158255104.0000 - val_r2_score: 0.7601\n",
      "Epoch 49/70\n",
      "\u001b[1m413/413\u001b[0m \u001b[32m━━━━━━━━━━━━━━━━━━━━\u001b[0m\u001b[37m\u001b[0m \u001b[1m1s\u001b[0m 3ms/step - loss: 2694157312.0000 - r2_score: 0.7979 - val_loss: 3098091520.0000 - val_r2_score: 0.7646\n",
      "Epoch 50/70\n",
      "\u001b[1m413/413\u001b[0m \u001b[32m━━━━━━━━━━━━━━━━━━━━\u001b[0m\u001b[37m\u001b[0m \u001b[1m1s\u001b[0m 3ms/step - loss: 2748894464.0000 - r2_score: 0.7971 - val_loss: 3156395264.0000 - val_r2_score: 0.7602\n",
      "Epoch 51/70\n",
      "\u001b[1m413/413\u001b[0m \u001b[32m━━━━━━━━━━━━━━━━━━━━\u001b[0m\u001b[37m\u001b[0m \u001b[1m1s\u001b[0m 3ms/step - loss: 2784047360.0000 - r2_score: 0.7921 - val_loss: 3102307840.0000 - val_r2_score: 0.7643\n",
      "Epoch 52/70\n",
      "\u001b[1m413/413\u001b[0m \u001b[32m━━━━━━━━━━━━━━━━━━━━\u001b[0m\u001b[37m\u001b[0m \u001b[1m1s\u001b[0m 3ms/step - loss: 2707659264.0000 - r2_score: 0.7952 - val_loss: 3171158016.0000 - val_r2_score: 0.7591\n",
      "Epoch 53/70\n",
      "\u001b[1m413/413\u001b[0m \u001b[32m━━━━━━━━━━━━━━━━━━━━\u001b[0m\u001b[37m\u001b[0m \u001b[1m1s\u001b[0m 3ms/step - loss: 2816961280.0000 - r2_score: 0.7896 - val_loss: 3125817088.0000 - val_r2_score: 0.7625\n",
      "Epoch 54/70\n",
      "\u001b[1m413/413\u001b[0m \u001b[32m━━━━━━━━━━━━━━━━━━━━\u001b[0m\u001b[37m\u001b[0m \u001b[1m1s\u001b[0m 3ms/step - loss: 2789428480.0000 - r2_score: 0.7922 - val_loss: 3175864064.0000 - val_r2_score: 0.7587\n",
      "Epoch 55/70\n",
      "\u001b[1m413/413\u001b[0m \u001b[32m━━━━━━━━━━━━━━━━━━━━\u001b[0m\u001b[37m\u001b[0m \u001b[1m1s\u001b[0m 3ms/step - loss: 2741628160.0000 - r2_score: 0.7957 - val_loss: 3129823232.0000 - val_r2_score: 0.7622\n",
      "Epoch 56/70\n",
      "\u001b[1m413/413\u001b[0m \u001b[32m━━━━━━━━━━━━━━━━━━━━\u001b[0m\u001b[37m\u001b[0m \u001b[1m1s\u001b[0m 3ms/step - loss: 2655624448.0000 - r2_score: 0.8002 - val_loss: 3157338624.0000 - val_r2_score: 0.7601\n",
      "Epoch 57/70\n",
      "\u001b[1m413/413\u001b[0m \u001b[32m━━━━━━━━━━━━━━━━━━━━\u001b[0m\u001b[37m\u001b[0m \u001b[1m1s\u001b[0m 3ms/step - loss: 2747915520.0000 - r2_score: 0.7992 - val_loss: 3105853440.0000 - val_r2_score: 0.7640\n",
      "Epoch 58/70\n",
      "\u001b[1m413/413\u001b[0m \u001b[32m━━━━━━━━━━━━━━━━━━━━\u001b[0m\u001b[37m\u001b[0m \u001b[1m1s\u001b[0m 3ms/step - loss: 2880449536.0000 - r2_score: 0.7893 - val_loss: 3149562112.0000 - val_r2_score: 0.7607\n",
      "Epoch 59/70\n",
      "\u001b[1m413/413\u001b[0m \u001b[32m━━━━━━━━━━━━━━━━━━━━\u001b[0m\u001b[37m\u001b[0m \u001b[1m1s\u001b[0m 3ms/step - loss: 2717513216.0000 - r2_score: 0.7945 - val_loss: 3114460928.0000 - val_r2_score: 0.7634\n",
      "Epoch 60/70\n",
      "\u001b[1m413/413\u001b[0m \u001b[32m━━━━━━━━━━━━━━━━━━━━\u001b[0m\u001b[37m\u001b[0m \u001b[1m1s\u001b[0m 3ms/step - loss: 2750188800.0000 - r2_score: 0.7966 - val_loss: 3087145472.0000 - val_r2_score: 0.7655\n",
      "Epoch 61/70\n",
      "\u001b[1m413/413\u001b[0m \u001b[32m━━━━━━━━━━━━━━━━━━━━\u001b[0m\u001b[37m\u001b[0m \u001b[1m1s\u001b[0m 3ms/step - loss: 2731023104.0000 - r2_score: 0.7974 - val_loss: 3101175808.0000 - val_r2_score: 0.7644\n",
      "Epoch 62/70\n",
      "\u001b[1m413/413\u001b[0m \u001b[32m━━━━━━━━━━━━━━━━━━━━\u001b[0m\u001b[37m\u001b[0m \u001b[1m1s\u001b[0m 3ms/step - loss: 2632346624.0000 - r2_score: 0.8007 - val_loss: 3112142080.0000 - val_r2_score: 0.7636\n",
      "Epoch 63/70\n",
      "\u001b[1m413/413\u001b[0m \u001b[32m━━━━━━━━━━━━━━━━━━━━\u001b[0m\u001b[37m\u001b[0m \u001b[1m1s\u001b[0m 3ms/step - loss: 2675206912.0000 - r2_score: 0.7981 - val_loss: 3126943488.0000 - val_r2_score: 0.7624\n",
      "Epoch 64/70\n",
      "\u001b[1m413/413\u001b[0m \u001b[32m━━━━━━━━━━━━━━━━━━━━\u001b[0m\u001b[37m\u001b[0m \u001b[1m1s\u001b[0m 3ms/step - loss: 2682286080.0000 - r2_score: 0.8008 - val_loss: 3085556736.0000 - val_r2_score: 0.7656\n",
      "Epoch 65/70\n",
      "\u001b[1m413/413\u001b[0m \u001b[32m━━━━━━━━━━━━━━━━━━━━\u001b[0m\u001b[37m\u001b[0m \u001b[1m1s\u001b[0m 3ms/step - loss: 2716762368.0000 - r2_score: 0.7970 - val_loss: 3208414720.0000 - val_r2_score: 0.7562\n",
      "Epoch 66/70\n",
      "\u001b[1m413/413\u001b[0m \u001b[32m━━━━━━━━━━━━━━━━━━━━\u001b[0m\u001b[37m\u001b[0m \u001b[1m1s\u001b[0m 3ms/step - loss: 2628300544.0000 - r2_score: 0.8036 - val_loss: 3073328384.0000 - val_r2_score: 0.7665\n",
      "Epoch 67/70\n",
      "\u001b[1m413/413\u001b[0m \u001b[32m━━━━━━━━━━━━━━━━━━━━\u001b[0m\u001b[37m\u001b[0m \u001b[1m1s\u001b[0m 3ms/step - loss: 2678862848.0000 - r2_score: 0.8028 - val_loss: 3132301568.0000 - val_r2_score: 0.7620\n",
      "Epoch 68/70\n",
      "\u001b[1m413/413\u001b[0m \u001b[32m━━━━━━━━━━━━━━━━━━━━\u001b[0m\u001b[37m\u001b[0m \u001b[1m1s\u001b[0m 3ms/step - loss: 2646648576.0000 - r2_score: 0.8072 - val_loss: 3309163264.0000 - val_r2_score: 0.7486\n",
      "Epoch 69/70\n",
      "\u001b[1m413/413\u001b[0m \u001b[32m━━━━━━━━━━━━━━━━━━━━\u001b[0m\u001b[37m\u001b[0m \u001b[1m1s\u001b[0m 3ms/step - loss: 2536885248.0000 - r2_score: 0.8104 - val_loss: 3129094656.0000 - val_r2_score: 0.7623\n",
      "Epoch 70/70\n",
      "\u001b[1m413/413\u001b[0m \u001b[32m━━━━━━━━━━━━━━━━━━━━\u001b[0m\u001b[37m\u001b[0m \u001b[1m1s\u001b[0m 3ms/step - loss: 2832883200.0000 - r2_score: 0.7887 - val_loss: 3082210304.0000 - val_r2_score: 0.7658\n"
     ]
    },
    {
     "data": {
      "text/plain": [
       "<keras.src.callbacks.history.History at 0x25fcfed8820>"
      ]
     },
     "execution_count": 52,
     "metadata": {},
     "output_type": "execute_result"
    }
   ],
   "source": [
    "from tensorflow.keras.callbacks import EarlyStopping\n",
    "early_stopping = EarlyStopping(monitor='r2_score', patience=7, restore_best_weights=True)\n",
    "model.fit(x_train, y_train, epochs=70,validation_data=(x_test, y_test),callbacks=[early_stopping])"
   ]
  },
  {
   "cell_type": "code",
   "execution_count": 53,
   "metadata": {},
   "outputs": [
    {
     "name": "stdout",
     "output_type": "stream",
     "text": [
      "\u001b[1m104/104\u001b[0m \u001b[32m━━━━━━━━━━━━━━━━━━━━\u001b[0m\u001b[37m\u001b[0m \u001b[1m0s\u001b[0m 2ms/step\n",
      "0.7485870122909546\n"
     ]
    }
   ],
   "source": [
    "out_test=model.predict(x_test)\n",
    "print(r2_score(y_test,out_test))"
   ]
  },
  {
   "cell_type": "code",
   "execution_count": null,
   "metadata": {},
   "outputs": [],
   "source": []
  }
 ],
 "metadata": {
  "kernelspec": {
   "display_name": "deep",
   "language": "python",
   "name": "python3"
  },
  "language_info": {
   "codemirror_mode": {
    "name": "ipython",
    "version": 3
   },
   "file_extension": ".py",
   "mimetype": "text/x-python",
   "name": "python",
   "nbconvert_exporter": "python",
   "pygments_lexer": "ipython3",
   "version": "3.9.21"
  }
 },
 "nbformat": 4,
 "nbformat_minor": 2
}
